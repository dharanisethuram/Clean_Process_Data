{
 "cells": [
  {
   "cell_type": "code",
   "execution_count": 1,
   "metadata": {},
   "outputs": [
    {
     "data": {
      "text/plain": [
       "'/Users/dharanisethuram/SamplePro'"
      ]
     },
     "execution_count": 1,
     "metadata": {},
     "output_type": "execute_result"
    }
   ],
   "source": [
    "pwd"
   ]
  },
  {
   "cell_type": "code",
   "execution_count": 2,
   "metadata": {
    "collapsed": true
   },
   "outputs": [],
   "source": [
    "import numpy as np\n",
    "import pandas as pd"
   ]
  },
  {
   "cell_type": "code",
   "execution_count": 9,
   "metadata": {},
   "outputs": [
    {
     "name": "stdout",
     "output_type": "stream",
     "text": [
      "            imlilium       imlilium.1\n",
      "0     EmpireStateDev   EmpireStateDev\n",
      "1        USA_Network      USA_Network\n",
      "2            EWireco          EWireco\n",
      "7          WBJonline        WBJonline\n",
      "8      Easy_Branches  PhuketDailyNews\n",
      "9             Amtrak        _missrain\n",
      "10          msatta2d         msatta2d\n",
      "11             Rjrwy            Rjrwy\n",
      "12       JonesModels      JonesModels\n",
      "13         ssegraves         bmvaughn\n",
      "14           phytgrl          phytgrl\n",
      "15      theologymatt       KinderEric\n",
      "16    Beatles_smiles   Beatles_smiles\n",
      "17       ClubZone_FM      ClubZone_FM\n",
      "19   Victoria_Lenese    PenAndPadThad\n",
      "20        moshdaboss         tizzy991\n",
      "21        shipafloat       shipafloat\n",
      "22            meg729        ConEdison\n",
      "24      Carbon_autos     Carbon_autos\n",
      "25        _anamaniac  complexitiiiiii\n",
      "26   Thatnigga_joc95   ObeyIlluminati\n",
      "27        lydialauer       lydialauer\n",
      "28         KeanTower        KeanTower\n",
      "29    TheKnowBuddies    heyLauraFreed\n",
      "30           Demotix      A_Symington\n",
      "31              CBS8             CBS8\n",
      "32       Grasshopper      Grasshopper\n",
      "33           EcoJive          EcoJive\n",
      "36         RE_Weekly        RE_Weekly\n",
      "37    Wx_Mississauga   Mississauga411\n",
      "..               ...              ...\n",
      "764          obx_now          obx_now\n",
      "765  cherokeectynews  cherokeectynews\n",
      "766   RustyBucketUSA   RustyBucketUSA\n",
      "767  VSystemsLLP_adm  VSystemsLLP_adm\n",
      "770        dsquinnan         LeoNovel\n",
      "771        phlpchong        phlpchong\n",
      "772       woodybatts       woodybatts\n",
      "773        JoNBCNews   NBCConnecticut\n",
      "774     SABizJournal     SABizJournal\n",
      "780    RockfordFirst         focusone\n",
      "781          cowerks          cowerks\n",
      "782   CocktailBodega   CocktailBodega\n",
      "783         ambit411         ambit411\n",
      "784  RAHZELTHELEGEND     missluv2luvu\n",
      "785      jacmacneill      jacmacneill\n",
      "786  TheCortezEffect         djcamilo\n",
      "787         wickwife         wickwife\n",
      "788         jboydNYC         jboydNYC\n",
      "789        SlimTuFly   MOEdiamonds412\n",
      "790      jasonpinter      KatesDomain\n",
      "791     clickorlando     clickorlando\n",
      "792  MyCentralJersey  MyCentralJersey\n",
      "793    BevHillsPatch    BevHillsPatch\n",
      "794    4LetterW_Jade  Hurricane_China\n",
      "795  CTLightandPower       geosimpson\n",
      "796   empresspublish   empresspublish\n",
      "797    jaejoongiekim      lilchsegurl\n",
      "798   ThorntonCONews   ThorntonCONews\n",
      "799  ilovemymnsports  ilovemymnsports\n",
      "800      3DHobbyShop      3DHobbyShop\n",
      "\n",
      "[584 rows x 2 columns]\n"
     ]
    }
   ],
   "source": [
    "df = pd.read_csv('key_con.csv')\n",
    "d = df.drop_duplicates()\n",
    "d.to_csv('cleankey_con.csv')\n",
    "print (d)"
   ]
  },
  {
   "cell_type": "code",
   "execution_count": 10,
   "metadata": {},
   "outputs": [
    {
     "name": "stdout",
     "output_type": "stream",
     "text": [
      "        cassiex0ellis      CanCanMarie\n",
      "0              weswtf  FuckkUU_PayyMee\n",
      "2        _AaronRenaud      Jushunter10\n",
      "4      CayCay_McNitro   CayCay_McNitro\n",
      "5     amontecalvo_515          Jsine35\n",
      "6     victoriaarachel    LadyBugCharee\n",
      "7       mikekowalski_            Tpavz\n",
      "8      Kingg_Richard_  BallTil_IDie_LC\n",
      "10            Cvman02          Cvman02\n",
      "11           WeAreCha     Alex_Spinner\n",
      "12    andnowimn0thing         m0ntr0se\n",
      "13    ItsSydneyBitch9      ShyenneSayz\n",
      "15       tupperbeware        chris_TPY\n",
      "16          SRdipalot      SeanPhelan5\n",
      "17      TopShelfBrews    TopShelfBrews\n",
      "18      alexknowshtml       tonybgoode\n",
      "19        becca_snell       erinsheaaa\n",
      "20    SuperBaddrohadd  SuperBaddrohadd\n",
      "21          _D1bound_      CjEdwardzzz\n",
      "22     MzAzure_Roblez   MzAzure_Roblez\n",
      "23          elilesser     kimberlykirn\n",
      "24             JimEck           JimEck\n",
      "25     TakemeasiamXo3        Malikk193\n",
      "26        tylerwfitch         mbutterf\n",
      "27        LivBieber11      LivBieber11\n",
      "28        RayEllisIII    nicoleflankkk\n",
      "29      nikkil0vezy00       wownicolee\n",
      "30            DDougyy        Megglezzz\n",
      "32         FreddyJ_23    SteffEsposito\n",
      "34      VickNalentino       krysbabyxo\n",
      "36          Paigevic5   classic_chick1\n",
      "...               ...              ...\n",
      "1594  Dont_JudgeChris  thisdorkjessica\n",
      "1595      ToppingRose      ToppingRose\n",
      "1597   Dr_ChrisMagboo        giiidavis\n",
      "1598  CampingSurvival  CampingSurvival\n",
      "1599           KiaNYC           KiaNYC\n",
      "1600     Farley_OVOXO     julieziGZAGz\n",
      "1601    MrAnthonyRaul    MrAnthonyRaul\n",
      "1602      WrestleCade      WrestleCade\n",
      "1604            exiva        joelfreak\n",
      "1609        meagfahey       jfahey5856\n",
      "1610    2Girls1Rickey   __AcapulcoGold\n",
      "1614   TifoshinRogers   TifoshinRogers\n",
      "1622       DaBoulRash       mo_abdul23\n",
      "1630         YoGoWild         YoGoWild\n",
      "1632    londrizzzzzle           yofuff\n",
      "1634   emilygracepenn       alehouse76\n",
      "1635             H4i5   MiSsChRiSsY011\n",
      "1638      pa_davis101        WTFkrissy\n",
      "1648         a_masone        jenmurph3\n",
      "1649        NakaseArt        Kirbynite\n",
      "1650      SteveNati35          bri_sco\n",
      "1652       _weloveJay     OhThatsDerek\n",
      "1653   NiceGuyTeele91   4ngelo5carfone\n",
      "1654        moll_foxx          Cwalks3\n",
      "1661       BobbyCz123          delbenz\n",
      "1662    RbRLiveStudio    RbRLiveStudio\n",
      "1673  jocelynerickson  jocelynerickson\n",
      "1679    KevaZimmerman    KevaZimmerman\n",
      "1683      lrcomedy101      lrcomedy101\n",
      "1684         JRelnene         JRelnene\n",
      "\n",
      "[834 rows x 2 columns]\n"
     ]
    }
   ],
   "source": [
    "\n",
    "df = pd.read_csv('geo_con.csv')\n",
    "d = df.drop_duplicates()\n",
    "d.to_csv('cleangeo_con.csv')\n",
    "\n",
    "\n",
    "print(d)"
   ]
  },
  {
   "cell_type": "code",
   "execution_count": null,
   "metadata": {
    "collapsed": true
   },
   "outputs": [],
   "source": []
  }
 ],
 "metadata": {
  "kernelspec": {
   "display_name": "Python 3",
   "language": "python",
   "name": "python3"
  },
  "language_info": {
   "codemirror_mode": {
    "name": "ipython",
    "version": 3
   },
   "file_extension": ".py",
   "mimetype": "text/x-python",
   "name": "python",
   "nbconvert_exporter": "python",
   "pygments_lexer": "ipython3",
   "version": "3.6.3"
  }
 },
 "nbformat": 4,
 "nbformat_minor": 2
}
