{
 "cells": [
  {
   "cell_type": "code",
   "execution_count": 224,
   "metadata": {},
   "outputs": [
    {
     "data": {
      "text/plain": [
       "'/Users/dharanisethuram/SamplePro'"
      ]
     },
     "execution_count": 224,
     "metadata": {},
     "output_type": "execute_result"
    }
   ],
   "source": [
    "pwd"
   ]
  },
  {
   "cell_type": "code",
   "execution_count": 225,
   "metadata": {
    "collapsed": true
   },
   "outputs": [],
   "source": [
    "import numpy as np\n",
    "import pandas as pd\n",
    "\n"
   ]
  },
  {
   "cell_type": "code",
   "execution_count": 226,
   "metadata": {
    "collapsed": true
   },
   "outputs": [],
   "source": [
    "df = pd.read_csv('sandy_geo_sample200k.csv')"
   ]
  },
  {
   "cell_type": "code",
   "execution_count": 227,
   "metadata": {
    "scrolled": true
   },
   "outputs": [
    {
     "data": {
      "text/html": [
       "<div>\n",
       "<style>\n",
       "    .dataframe thead tr:only-child th {\n",
       "        text-align: right;\n",
       "    }\n",
       "\n",
       "    .dataframe thead th {\n",
       "        text-align: left;\n",
       "    }\n",
       "\n",
       "    .dataframe tbody tr th {\n",
       "        vertical-align: top;\n",
       "    }\n",
       "</style>\n",
       "<table border=\"1\" class=\"dataframe\">\n",
       "  <thead>\n",
       "    <tr style=\"text-align: right;\">\n",
       "      <th></th>\n",
       "      <th>Klout Score</th>\n",
       "      <th>Retweet Count</th>\n",
       "      <th>Friends Count</th>\n",
       "      <th>Followers Count</th>\n",
       "    </tr>\n",
       "  </thead>\n",
       "  <tbody>\n",
       "    <tr>\n",
       "      <th>count</th>\n",
       "      <td>200000.000000</td>\n",
       "      <td>200000.0</td>\n",
       "      <td>200000.000000</td>\n",
       "      <td>2.000000e+05</td>\n",
       "    </tr>\n",
       "    <tr>\n",
       "      <th>mean</th>\n",
       "      <td>37.707585</td>\n",
       "      <td>0.0</td>\n",
       "      <td>420.328480</td>\n",
       "      <td>8.476314e+02</td>\n",
       "    </tr>\n",
       "    <tr>\n",
       "      <th>std</th>\n",
       "      <td>10.881198</td>\n",
       "      <td>0.0</td>\n",
       "      <td>1315.578409</td>\n",
       "      <td>2.783686e+04</td>\n",
       "    </tr>\n",
       "    <tr>\n",
       "      <th>min</th>\n",
       "      <td>0.000000</td>\n",
       "      <td>0.0</td>\n",
       "      <td>0.000000</td>\n",
       "      <td>0.000000e+00</td>\n",
       "    </tr>\n",
       "    <tr>\n",
       "      <th>25%</th>\n",
       "      <td>34.000000</td>\n",
       "      <td>0.0</td>\n",
       "      <td>133.000000</td>\n",
       "      <td>1.060000e+02</td>\n",
       "    </tr>\n",
       "    <tr>\n",
       "      <th>50%</th>\n",
       "      <td>40.000000</td>\n",
       "      <td>0.0</td>\n",
       "      <td>241.000000</td>\n",
       "      <td>2.180000e+02</td>\n",
       "    </tr>\n",
       "    <tr>\n",
       "      <th>75%</th>\n",
       "      <td>43.000000</td>\n",
       "      <td>0.0</td>\n",
       "      <td>432.000000</td>\n",
       "      <td>4.020000e+02</td>\n",
       "    </tr>\n",
       "    <tr>\n",
       "      <th>max</th>\n",
       "      <td>90.000000</td>\n",
       "      <td>0.0</td>\n",
       "      <td>205980.000000</td>\n",
       "      <td>9.073068e+06</td>\n",
       "    </tr>\n",
       "  </tbody>\n",
       "</table>\n",
       "</div>"
      ],
      "text/plain": [
       "         Klout Score  Retweet Count  Friends Count  Followers Count\n",
       "count  200000.000000       200000.0  200000.000000     2.000000e+05\n",
       "mean       37.707585            0.0     420.328480     8.476314e+02\n",
       "std        10.881198            0.0    1315.578409     2.783686e+04\n",
       "min         0.000000            0.0       0.000000     0.000000e+00\n",
       "25%        34.000000            0.0     133.000000     1.060000e+02\n",
       "50%        40.000000            0.0     241.000000     2.180000e+02\n",
       "75%        43.000000            0.0     432.000000     4.020000e+02\n",
       "max        90.000000            0.0  205980.000000     9.073068e+06"
      ]
     },
     "execution_count": 227,
     "metadata": {},
     "output_type": "execute_result"
    }
   ],
   "source": [
    "df.describe()"
   ]
  },
  {
   "cell_type": "code",
   "execution_count": 228,
   "metadata": {
    "collapsed": true
   },
   "outputs": [],
   "source": [
    "d = df[['Username','Mentions']]"
   ]
  },
  {
   "cell_type": "code",
   "execution_count": 229,
   "metadata": {
    "collapsed": true,
    "scrolled": true
   },
   "outputs": [],
   "source": [
    "d.to_csv(\"User_Ment.csv\")"
   ]
  },
  {
   "cell_type": "code",
   "execution_count": 230,
   "metadata": {
    "scrolled": false
   },
   "outputs": [
    {
     "name": "stdout",
     "output_type": "stream",
     "text": [
      "total 130880\r\n",
      "-rw-r--r--  1 dharanisethuram  staff  33603196 Aug 21 22:39 sandy_kw_sample200k.csv\r\n",
      "-rw-r--r--@ 1 dharanisethuram  staff  27877525 Aug 21 22:39 sandy_geo_sample200k.csv\r\n",
      "-rw-r--r--  1 dharanisethuram  staff     36292 Sep 12 09:22 geo_mention_dh.ipynb\r\n",
      "-rw-r--r--@ 1 dharanisethuram  staff       285 Sep 12 09:22 cleanUser_Ment.csv\r\n",
      "-rw-r--r--  1 dharanisethuram  staff   5482182 Sep 12 09:23 User_Ment.csv\r\n"
     ]
    }
   ],
   "source": [
    "ls -lrt\n"
   ]
  },
  {
   "cell_type": "code",
   "execution_count": 231,
   "metadata": {
    "collapsed": true
   },
   "outputs": [],
   "source": [
    "df=pd.read_csv(\"User_Ment.csv\")"
   ]
  },
  {
   "cell_type": "code",
   "execution_count": 232,
   "metadata": {},
   "outputs": [
    {
     "data": {
      "text/html": [
       "<div>\n",
       "<style>\n",
       "    .dataframe thead tr:only-child th {\n",
       "        text-align: right;\n",
       "    }\n",
       "\n",
       "    .dataframe thead th {\n",
       "        text-align: left;\n",
       "    }\n",
       "\n",
       "    .dataframe tbody tr th {\n",
       "        vertical-align: top;\n",
       "    }\n",
       "</style>\n",
       "<table border=\"1\" class=\"dataframe\">\n",
       "  <thead>\n",
       "    <tr style=\"text-align: right;\">\n",
       "      <th></th>\n",
       "      <th>Unnamed: 0</th>\n",
       "      <th>Username</th>\n",
       "      <th>Mentions</th>\n",
       "    </tr>\n",
       "  </thead>\n",
       "  <tbody>\n",
       "    <tr>\n",
       "      <th>0</th>\n",
       "      <td>0</td>\n",
       "      <td>C_lorennxx</td>\n",
       "      <td>Live_Strong_30,</td>\n",
       "    </tr>\n",
       "    <tr>\n",
       "      <th>1</th>\n",
       "      <td>1</td>\n",
       "      <td>iSlapThirsties</td>\n",
       "      <td>NaN</td>\n",
       "    </tr>\n",
       "    <tr>\n",
       "      <th>2</th>\n",
       "      <td>2</td>\n",
       "      <td>JACK_in_ur_box</td>\n",
       "      <td>wrath_of_rathje, TUCK_U_2_SLEEP,</td>\n",
       "    </tr>\n",
       "    <tr>\n",
       "      <th>3</th>\n",
       "      <td>3</td>\n",
       "      <td>KseniaL</td>\n",
       "      <td>NaN</td>\n",
       "    </tr>\n",
       "    <tr>\n",
       "      <th>4</th>\n",
       "      <td>4</td>\n",
       "      <td>andrew_dangelo</td>\n",
       "      <td>NaN</td>\n",
       "    </tr>\n",
       "    <tr>\n",
       "      <th>5</th>\n",
       "      <td>5</td>\n",
       "      <td>clalicata17</td>\n",
       "      <td>NaN</td>\n",
       "    </tr>\n",
       "    <tr>\n",
       "      <th>6</th>\n",
       "      <td>6</td>\n",
       "      <td>shann_mc3</td>\n",
       "      <td>NaN</td>\n",
       "    </tr>\n",
       "    <tr>\n",
       "      <th>7</th>\n",
       "      <td>7</td>\n",
       "      <td>caffeinehusky</td>\n",
       "      <td>NaN</td>\n",
       "    </tr>\n",
       "    <tr>\n",
       "      <th>8</th>\n",
       "      <td>8</td>\n",
       "      <td>RDietz5</td>\n",
       "      <td>NaN</td>\n",
       "    </tr>\n",
       "    <tr>\n",
       "      <th>9</th>\n",
       "      <td>9</td>\n",
       "      <td>RodneyWren</td>\n",
       "      <td>NaN</td>\n",
       "    </tr>\n",
       "  </tbody>\n",
       "</table>\n",
       "</div>"
      ],
      "text/plain": [
       "   Unnamed: 0        Username                           Mentions\n",
       "0           0      C_lorennxx                   Live_Strong_30, \n",
       "1           1  iSlapThirsties                                NaN\n",
       "2           2  JACK_in_ur_box  wrath_of_rathje, TUCK_U_2_SLEEP, \n",
       "3           3         KseniaL                                NaN\n",
       "4           4  andrew_dangelo                                NaN\n",
       "5           5     clalicata17                                NaN\n",
       "6           6       shann_mc3                                NaN\n",
       "7           7   caffeinehusky                                NaN\n",
       "8           8         RDietz5                                NaN\n",
       "9           9      RodneyWren                                NaN"
      ]
     },
     "execution_count": 232,
     "metadata": {},
     "output_type": "execute_result"
    }
   ],
   "source": [
    "df[0:10]"
   ]
  },
  {
   "cell_type": "code",
   "execution_count": 233,
   "metadata": {},
   "outputs": [
    {
     "name": "stdout",
     "output_type": "stream",
     "text": [
      "<bound method DataFrame.count of         Unnamed: 0         Username  \\\n",
      "0                0       C_lorennxx   \n",
      "1                1   iSlapThirsties   \n",
      "2                2   JACK_in_ur_box   \n",
      "3                3          KseniaL   \n",
      "4                4   andrew_dangelo   \n",
      "5                5      clalicata17   \n",
      "6                6        shann_mc3   \n",
      "7                7    caffeinehusky   \n",
      "8                8          RDietz5   \n",
      "9                9       RodneyWren   \n",
      "10              10      torilussier   \n",
      "11              11   intercomithaca   \n",
      "12              12         gabbbiee   \n",
      "13              13   MuzikGenius101   \n",
      "14              14     lorisqcwyost   \n",
      "15              15      AyoooooMont   \n",
      "16              16    laurencasale_   \n",
      "17              17        BabetteKD   \n",
      "18              18   primerAngolano   \n",
      "19              19        sammie_ce   \n",
      "20              20           orbiqa   \n",
      "21              21        LalaMada1   \n",
      "22              22  shakiadnphoenix   \n",
      "23              23         FilPalma   \n",
      "24              24     abvanderziel   \n",
      "25              25    Martijfree304   \n",
      "26              26           GCoss5   \n",
      "27              27      Asap_Mamba_   \n",
      "28              28        nirhalegi   \n",
      "29              29   kathrynminer15   \n",
      "...            ...              ...   \n",
      "199970      199970          Cwalks3   \n",
      "199971      199971        DjCrysis_   \n",
      "199972      199972            Kuret   \n",
      "199973      199973  Gosssh_MsMonroe   \n",
      "199974      199974       linseyface   \n",
      "199975      199975   SHAATthefckup_   \n",
      "199976      199976         Azskyman   \n",
      "199977      199977     katyperreira   \n",
      "199978      199978      dslmichelle   \n",
      "199979      199979      RayEllisIII   \n",
      "199980      199980       emilyholtt   \n",
      "199981      199981      KevinApollo   \n",
      "199982      199982      Hi_im_MARTI   \n",
      "199983      199983        leelee717   \n",
      "199984      199984     soccer131415   \n",
      "199985      199985  chuckieFinster_   \n",
      "199986      199986          DDougyy   \n",
      "199987      199987           ejosec   \n",
      "199988      199988        G_Sinn732   \n",
      "199989      199989    thereal_higgy   \n",
      "199990      199990     KatieLynn218   \n",
      "199991      199991      Chef_Dolenk   \n",
      "199992      199992     virgilboykin   \n",
      "199993      199993       iEarlyRoss   \n",
      "199994      199994         Emjola33   \n",
      "199995      199995         rhondieu   \n",
      "199996      199996   HartsoughnNate   \n",
      "199997      199997      PaulMRabell   \n",
      "199998      199998      Billymack13   \n",
      "199999      199999    RyGuy_FlyHigh   \n",
      "\n",
      "                                                 Mentions  \n",
      "0                                        Live_Strong_30,   \n",
      "1                                                     NaN  \n",
      "2                       wrath_of_rathje, TUCK_U_2_SLEEP,   \n",
      "3                                                     NaN  \n",
      "4                                                     NaN  \n",
      "5                                                     NaN  \n",
      "6                                                     NaN  \n",
      "7                                                     NaN  \n",
      "8                                                     NaN  \n",
      "9                                                     NaN  \n",
      "10                          nclemens_02, OhMyDarling118,   \n",
      "11                                                    NaN  \n",
      "12                                         nicki3diesel,   \n",
      "13                                                    NaN  \n",
      "14                                                    NaN  \n",
      "15                              KendrickLaamar, JColeNC,   \n",
      "16                                      JessicaNieberg1,   \n",
      "17                                                    NaN  \n",
      "18                                                    NaN  \n",
      "19                                             GodPosts,   \n",
      "20                                           Lukaymusic,   \n",
      "21                                                    NaN  \n",
      "22                                                    NaN  \n",
      "23                                                    NaN  \n",
      "24                                                    NaN  \n",
      "25                                                    NaN  \n",
      "26                            DJ_RJCoia, Chris_Lansdown,   \n",
      "27                                              BWebb32,   \n",
      "28      toritoosalzman, roseleemcrbarbo, melanisiwalto...  \n",
      "29                                               tumblr,   \n",
      "...                                                   ...  \n",
      "199970                                   keepingitriehl,   \n",
      "199971                                                NaN  \n",
      "199972                                                NaN  \n",
      "199973                                                NaN  \n",
      "199974                                                NaN  \n",
      "199975                  Keira_ModelSize, SHAATthefckup_,   \n",
      "199976                                                NaN  \n",
      "199977                          nanderoni, katyperreira,   \n",
      "199978                                      gabbygrass0,   \n",
      "199979                                                NaN  \n",
      "199980                                                NaN  \n",
      "199981                                                NaN  \n",
      "199982                                                NaN  \n",
      "199983                                                NaN  \n",
      "199984                     exoh_kaylie, MajewskiMelissa,   \n",
      "199985                                                NaN  \n",
      "199986                                         timjoyce,   \n",
      "199987                                      TRAVel_chnl,   \n",
      "199988                                                NaN  \n",
      "199989                                      ANDscREWyou,   \n",
      "199990                                                NaN  \n",
      "199991                                                NaN  \n",
      "199992                                      mmorales0_o,   \n",
      "199993                                     theycallmeBK,   \n",
      "199994                                                NaN  \n",
      "199995                                                NaN  \n",
      "199996                                      hollyydiana,   \n",
      "199997                                                NaN  \n",
      "199998                                                NaN  \n",
      "199999                                                NaN  \n",
      "\n",
      "[200000 rows x 3 columns]>\n"
     ]
    }
   ],
   "source": [
    "rno=df.count\n",
    "print (rno)"
   ]
  },
  {
   "cell_type": "code",
   "execution_count": 234,
   "metadata": {
    "collapsed": true
   },
   "outputs": [],
   "source": [
    "\n",
    "d=df.dropna()"
   ]
  },
  {
   "cell_type": "code",
   "execution_count": 235,
   "metadata": {},
   "outputs": [
    {
     "data": {
      "text/html": [
       "<div>\n",
       "<style>\n",
       "    .dataframe thead tr:only-child th {\n",
       "        text-align: right;\n",
       "    }\n",
       "\n",
       "    .dataframe thead th {\n",
       "        text-align: left;\n",
       "    }\n",
       "\n",
       "    .dataframe tbody tr th {\n",
       "        vertical-align: top;\n",
       "    }\n",
       "</style>\n",
       "<table border=\"1\" class=\"dataframe\">\n",
       "  <thead>\n",
       "    <tr style=\"text-align: right;\">\n",
       "      <th></th>\n",
       "      <th>Unnamed: 0</th>\n",
       "      <th>Username</th>\n",
       "      <th>Mentions</th>\n",
       "    </tr>\n",
       "  </thead>\n",
       "  <tbody>\n",
       "    <tr>\n",
       "      <th>0</th>\n",
       "      <td>0</td>\n",
       "      <td>C_lorennxx</td>\n",
       "      <td>Live_Strong_30,</td>\n",
       "    </tr>\n",
       "    <tr>\n",
       "      <th>2</th>\n",
       "      <td>2</td>\n",
       "      <td>JACK_in_ur_box</td>\n",
       "      <td>wrath_of_rathje, TUCK_U_2_SLEEP,</td>\n",
       "    </tr>\n",
       "    <tr>\n",
       "      <th>10</th>\n",
       "      <td>10</td>\n",
       "      <td>torilussier</td>\n",
       "      <td>nclemens_02, OhMyDarling118,</td>\n",
       "    </tr>\n",
       "    <tr>\n",
       "      <th>12</th>\n",
       "      <td>12</td>\n",
       "      <td>gabbbiee</td>\n",
       "      <td>nicki3diesel,</td>\n",
       "    </tr>\n",
       "    <tr>\n",
       "      <th>15</th>\n",
       "      <td>15</td>\n",
       "      <td>AyoooooMont</td>\n",
       "      <td>KendrickLaamar, JColeNC,</td>\n",
       "    </tr>\n",
       "    <tr>\n",
       "      <th>16</th>\n",
       "      <td>16</td>\n",
       "      <td>laurencasale_</td>\n",
       "      <td>JessicaNieberg1,</td>\n",
       "    </tr>\n",
       "    <tr>\n",
       "      <th>19</th>\n",
       "      <td>19</td>\n",
       "      <td>sammie_ce</td>\n",
       "      <td>GodPosts,</td>\n",
       "    </tr>\n",
       "    <tr>\n",
       "      <th>20</th>\n",
       "      <td>20</td>\n",
       "      <td>orbiqa</td>\n",
       "      <td>Lukaymusic,</td>\n",
       "    </tr>\n",
       "    <tr>\n",
       "      <th>26</th>\n",
       "      <td>26</td>\n",
       "      <td>GCoss5</td>\n",
       "      <td>DJ_RJCoia, Chris_Lansdown,</td>\n",
       "    </tr>\n",
       "    <tr>\n",
       "      <th>27</th>\n",
       "      <td>27</td>\n",
       "      <td>Asap_Mamba_</td>\n",
       "      <td>BWebb32,</td>\n",
       "    </tr>\n",
       "  </tbody>\n",
       "</table>\n",
       "</div>"
      ],
      "text/plain": [
       "    Unnamed: 0        Username                           Mentions\n",
       "0            0      C_lorennxx                   Live_Strong_30, \n",
       "2            2  JACK_in_ur_box  wrath_of_rathje, TUCK_U_2_SLEEP, \n",
       "10          10     torilussier      nclemens_02, OhMyDarling118, \n",
       "12          12        gabbbiee                     nicki3diesel, \n",
       "15          15     AyoooooMont          KendrickLaamar, JColeNC, \n",
       "16          16   laurencasale_                  JessicaNieberg1, \n",
       "19          19       sammie_ce                         GodPosts, \n",
       "20          20          orbiqa                       Lukaymusic, \n",
       "26          26          GCoss5        DJ_RJCoia, Chris_Lansdown, \n",
       "27          27     Asap_Mamba_                          BWebb32, "
      ]
     },
     "execution_count": 235,
     "metadata": {},
     "output_type": "execute_result"
    }
   ],
   "source": [
    "d[0:10]"
   ]
  },
  {
   "cell_type": "code",
   "execution_count": 236,
   "metadata": {
    "collapsed": true
   },
   "outputs": [],
   "source": [
    "rno=d.count"
   ]
  },
  {
   "cell_type": "code",
   "execution_count": 292,
   "metadata": {},
   "outputs": [
    {
     "name": "stdout",
     "output_type": "stream",
     "text": [
      "<bound method DataFrame.count of         Unnamed: 0         Username  \\\n",
      "0                0       C_lorennxx   \n",
      "2                2   JACK_in_ur_box   \n",
      "10              10      torilussier   \n",
      "12              12         gabbbiee   \n",
      "15              15      AyoooooMont   \n",
      "16              16    laurencasale_   \n",
      "19              19        sammie_ce   \n",
      "20              20           orbiqa   \n",
      "26              26           GCoss5   \n",
      "27              27      Asap_Mamba_   \n",
      "28              28        nirhalegi   \n",
      "29              29   kathrynminer15   \n",
      "31              31       johnwehler   \n",
      "33              33   ItchinForPaper   \n",
      "37              37  one_spicy_nacho   \n",
      "40              40         skinsken   \n",
      "44              44      __Moochieee   \n",
      "46              46           jonvox   \n",
      "49              49        neilvogel   \n",
      "52              52     christiannnh   \n",
      "53              53  StopTwatchin215   \n",
      "58              58        robgchill   \n",
      "59              59       Corey12551   \n",
      "65              65  SanabriaLizbeth   \n",
      "66              66   SeanTaylorNice   \n",
      "68              68    Young_Boss501   \n",
      "70              70     davehalikman   \n",
      "76              76       kristaa424   \n",
      "79              79       vargasteph   \n",
      "81              81    sports_247365   \n",
      "...            ...              ...   \n",
      "199932      199932          GCN7897   \n",
      "199933      199933         ZOBright   \n",
      "199934      199934      AshMissLady   \n",
      "199937      199937   Pink_KittyGang   \n",
      "199938      199938  AlyssaEntrialgo   \n",
      "199939      199939  DanielleMessere   \n",
      "199942      199942   Matt_doubleyou   \n",
      "199943      199943      islandboi_B   \n",
      "199945      199945       mmstrength   \n",
      "199951      199951        Team3rvin   \n",
      "199956      199956          TDevz34   \n",
      "199957      199957      nick9shirey   \n",
      "199958      199958  jillianhalloran   \n",
      "199959      199959     aehdeschaine   \n",
      "199960      199960      BenGrajeda1   \n",
      "199963      199963   ismaelgomez921   \n",
      "199964      199964      J23Johnson_   \n",
      "199967      199967  Ivalease_Taina_   \n",
      "199968      199968     craigbeacham   \n",
      "199970      199970          Cwalks3   \n",
      "199975      199975   SHAATthefckup_   \n",
      "199977      199977     katyperreira   \n",
      "199978      199978      dslmichelle   \n",
      "199984      199984     soccer131415   \n",
      "199986      199986          DDougyy   \n",
      "199987      199987           ejosec   \n",
      "199989      199989    thereal_higgy   \n",
      "199992      199992     virgilboykin   \n",
      "199993      199993       iEarlyRoss   \n",
      "199996      199996   HartsoughnNate   \n",
      "\n",
      "                                                 Mentions  \n",
      "0                                        Live_Strong_30,   \n",
      "2                       wrath_of_rathje, TUCK_U_2_SLEEP,   \n",
      "10                          nclemens_02, OhMyDarling118,   \n",
      "12                                         nicki3diesel,   \n",
      "15                              KendrickLaamar, JColeNC,   \n",
      "16                                      JessicaNieberg1,   \n",
      "19                                             GodPosts,   \n",
      "20                                           Lukaymusic,   \n",
      "26                            DJ_RJCoia, Chris_Lansdown,   \n",
      "27                                              BWebb32,   \n",
      "28      toritoosalzman, roseleemcrbarbo, melanisiwalto...  \n",
      "29                                               tumblr,   \n",
      "31                                           brynardone,   \n",
      "33                                bdeabreu27, nikiDxoxo,   \n",
      "37                                            LaCreme_x,   \n",
      "40                                         scottlinn980,   \n",
      "44                                              bhritcv,   \n",
      "46                                              chrsphr,   \n",
      "49                                        MikeBloomberg,   \n",
      "52                                        sarahlawton13,   \n",
      "53                                          Sophia_Fury,   \n",
      "58                                        Bakes_Jamie13,   \n",
      "59                                      CarolineLFerrer,   \n",
      "65                                           ItsNi_thoo,   \n",
      "66                                        HardInTheYard,   \n",
      "68                                        LiveLoveYoshi,   \n",
      "70                                          domcarusone,   \n",
      "76                                          kid_polansk,   \n",
      "79                                             kenzwall,   \n",
      "81                                                  HBO,   \n",
      "...                                                   ...  \n",
      "199932                                  ScalpEmOfficial,   \n",
      "199933                          lexiilyn, victoriaohh95,   \n",
      "199934                                      Supah_Bonez,   \n",
      "199937                                       IAMterre96,   \n",
      "199938                                   K_Antonacci_09,   \n",
      "199939                                      Reckless_x3,   \n",
      "199942  Nick_Authier, jtjezierski, HessEthan, gregbiro...  \n",
      "199943                                     VuittonGunnz,   \n",
      "199945                                       SpartanB2D,   \n",
      "199951                                    RavonWilliams,   \n",
      "199956                                        dani_trap,   \n",
      "199957                                  beckynesterwitz,   \n",
      "199958                                         MinaIto2,   \n",
      "199959                                      khinckley29,   \n",
      "199960  braunfitness, Bakerelle, Foreverfit4u, FigureR...  \n",
      "199963                                   weatherchannel,   \n",
      "199964                              Jovy_T, J23Johnson_,   \n",
      "199967                                     Jesiree_xoxo,   \n",
      "199968                   Vahos10, Baby_Jordan_23, BGil8,   \n",
      "199970                                   keepingitriehl,   \n",
      "199975                  Keira_ModelSize, SHAATthefckup_,   \n",
      "199977                          nanderoni, katyperreira,   \n",
      "199978                                      gabbygrass0,   \n",
      "199984                     exoh_kaylie, MajewskiMelissa,   \n",
      "199986                                         timjoyce,   \n",
      "199987                                      TRAVel_chnl,   \n",
      "199989                                      ANDscREWyou,   \n",
      "199992                                      mmorales0_o,   \n",
      "199993                                     theycallmeBK,   \n",
      "199996                                      hollyydiana,   \n",
      "\n",
      "[84401 rows x 3 columns]>\n"
     ]
    }
   ],
   "source": [
    "print (rno)"
   ]
  },
  {
   "cell_type": "code",
   "execution_count": 238,
   "metadata": {
    "collapsed": true
   },
   "outputs": [],
   "source": [
    "d.to_csv(\"cleanUser_Ment.csv\")"
   ]
  },
  {
   "cell_type": "code",
   "execution_count": 239,
   "metadata": {
    "collapsed": true
   },
   "outputs": [],
   "source": [
    "df = pd.read_csv(\"cleanUser_Ment.csv\")"
   ]
  },
  {
   "cell_type": "code",
   "execution_count": 240,
   "metadata": {},
   "outputs": [
    {
     "data": {
      "text/html": [
       "<div>\n",
       "<style>\n",
       "    .dataframe thead tr:only-child th {\n",
       "        text-align: right;\n",
       "    }\n",
       "\n",
       "    .dataframe thead th {\n",
       "        text-align: left;\n",
       "    }\n",
       "\n",
       "    .dataframe tbody tr th {\n",
       "        vertical-align: top;\n",
       "    }\n",
       "</style>\n",
       "<table border=\"1\" class=\"dataframe\">\n",
       "  <thead>\n",
       "    <tr style=\"text-align: right;\">\n",
       "      <th></th>\n",
       "      <th>Unnamed: 0</th>\n",
       "      <th>Unnamed: 0.1</th>\n",
       "    </tr>\n",
       "  </thead>\n",
       "  <tbody>\n",
       "    <tr>\n",
       "      <th>count</th>\n",
       "      <td>84401.000000</td>\n",
       "      <td>84401.000000</td>\n",
       "    </tr>\n",
       "    <tr>\n",
       "      <th>mean</th>\n",
       "      <td>100075.304902</td>\n",
       "      <td>100075.304902</td>\n",
       "    </tr>\n",
       "    <tr>\n",
       "      <th>std</th>\n",
       "      <td>57673.812646</td>\n",
       "      <td>57673.812646</td>\n",
       "    </tr>\n",
       "    <tr>\n",
       "      <th>min</th>\n",
       "      <td>0.000000</td>\n",
       "      <td>0.000000</td>\n",
       "    </tr>\n",
       "    <tr>\n",
       "      <th>25%</th>\n",
       "      <td>50377.000000</td>\n",
       "      <td>50377.000000</td>\n",
       "    </tr>\n",
       "    <tr>\n",
       "      <th>50%</th>\n",
       "      <td>100083.000000</td>\n",
       "      <td>100083.000000</td>\n",
       "    </tr>\n",
       "    <tr>\n",
       "      <th>75%</th>\n",
       "      <td>150032.000000</td>\n",
       "      <td>150032.000000</td>\n",
       "    </tr>\n",
       "    <tr>\n",
       "      <th>max</th>\n",
       "      <td>199996.000000</td>\n",
       "      <td>199996.000000</td>\n",
       "    </tr>\n",
       "  </tbody>\n",
       "</table>\n",
       "</div>"
      ],
      "text/plain": [
       "          Unnamed: 0   Unnamed: 0.1\n",
       "count   84401.000000   84401.000000\n",
       "mean   100075.304902  100075.304902\n",
       "std     57673.812646   57673.812646\n",
       "min         0.000000       0.000000\n",
       "25%     50377.000000   50377.000000\n",
       "50%    100083.000000  100083.000000\n",
       "75%    150032.000000  150032.000000\n",
       "max    199996.000000  199996.000000"
      ]
     },
     "execution_count": 240,
     "metadata": {},
     "output_type": "execute_result"
    }
   ],
   "source": [
    "df.describe()"
   ]
  },
  {
   "cell_type": "code",
   "execution_count": 291,
   "metadata": {},
   "outputs": [
    {
     "name": "stdout",
     "output_type": "stream",
     "text": [
      "   Unnamed: 0  Unnamed: 0.1        Username                           Mentions\n",
      "0           0             0      C_lorennxx                   Live_Strong_30, \n",
      "1           2             2  JACK_in_ur_box  wrath_of_rathje, TUCK_U_2_SLEEP, \n",
      "2          10            10     torilussier      nclemens_02, OhMyDarling118, \n",
      "3          12            12        gabbbiee                     nicki3diesel, \n",
      "4          15            15     AyoooooMont          KendrickLaamar, JColeNC, \n",
      "5          16            16   laurencasale_                  JessicaNieberg1, \n",
      "6          19            19       sammie_ce                         GodPosts, \n",
      "7          20            20          orbiqa                       Lukaymusic, \n",
      "8          26            26          GCoss5        DJ_RJCoia, Chris_Lansdown, \n",
      "9          27            27     Asap_Mamba_                          BWebb32, \n"
     ]
    }
   ],
   "source": [
    "#print(df.count)\n",
    "d = df[0:10]\n",
    "print (d)"
   ]
  },
  {
   "cell_type": "code",
   "execution_count": null,
   "metadata": {
    "collapsed": true
   },
   "outputs": [],
   "source": []
  },
  {
   "cell_type": "code",
   "execution_count": null,
   "metadata": {
    "collapsed": true
   },
   "outputs": [],
   "source": []
  },
  {
   "cell_type": "code",
   "execution_count": 276,
   "metadata": {},
   "outputs": [
    {
     "name": "stdout",
     "output_type": "stream",
     "text": [
      "['C_lorennxx', 'JACK_in_ur_box', 'torilussier', 'gabbbiee', 'AyoooooMont', 'laurencasale_', 'sammie_ce', 'orbiqa', 'GCoss5', 'Asap_Mamba_']\n"
     ]
    }
   ],
   "source": [
    "du = d['Username']\n",
    "#print(du)\n",
    "\n",
    "arr = [100] #adjust to needed \n",
    "x = []\n",
    "for row in du:\n",
    "    x.append(row)\n",
    "print (x)"
   ]
  },
  {
   "cell_type": "code",
   "execution_count": 243,
   "metadata": {},
   "outputs": [
    {
     "name": "stdout",
     "output_type": "stream",
     "text": [
      "0                     Live_Strong_30, \n",
      "1    wrath_of_rathje, TUCK_U_2_SLEEP, \n",
      "2        nclemens_02, OhMyDarling118, \n",
      "3                       nicki3diesel, \n",
      "4            KendrickLaamar, JColeNC, \n",
      "5                    JessicaNieberg1, \n",
      "6                           GodPosts, \n",
      "7                         Lukaymusic, \n",
      "8          DJ_RJCoia, Chris_Lansdown, \n",
      "9                            BWebb32, \n",
      "Name: Mentions, dtype: object\n",
      "['Live_Strong_30, ', 'wrath_of_rathje, TUCK_U_2_SLEEP, ', 'nclemens_02, OhMyDarling118, ', 'nicki3diesel, ', 'KendrickLaamar, JColeNC, ', 'JessicaNieberg1, ', 'GodPosts, ', 'Lukaymusic, ', 'DJ_RJCoia, Chris_Lansdown, ', 'BWebb32, ']\n",
      "nclemens_02, OhMyDarling118, \n",
      "nan\n",
      " OhMyDarling118\n"
     ]
    }
   ],
   "source": [
    "dm = df['Mentions']\n",
    "m=dm[0:10]\n",
    "print(m)\n",
    "#arr[100]\n",
    "x = []\n",
    "for row in m:\n",
    "   x.append(row)\n",
    "print(x)\n",
    "\n",
    "print (x[2])\n",
    "y = x[2]\n",
    "print(y1)\n",
    "\n",
    "y1=y.split(\",\")\n",
    "print(y1[1])"
   ]
  },
  {
   "cell_type": "code",
   "execution_count": 244,
   "metadata": {},
   "outputs": [
    {
     "name": "stdout",
     "output_type": "stream",
     "text": [
      "['Live_Strong_30, ', 'wrath_of_rathje, TUCK_U_2_SLEEP, ', 'nclemens_02, OhMyDarling118, ', 'nicki3diesel, ', 'KendrickLaamar, JColeNC, ', 'JessicaNieberg1, ', 'GodPosts, ', 'Lukaymusic, ', 'DJ_RJCoia, Chris_Lansdown, ', 'BWebb32, ']\n"
     ]
    },
    {
     "data": {
      "text/plain": [
       "['wrath_of_rathje, TUCK_U_2_SLEEP, ', 'nclemens_02, OhMyDarling118, ']"
      ]
     },
     "execution_count": 244,
     "metadata": {},
     "output_type": "execute_result"
    }
   ],
   "source": [
    "# not needed\n",
    "\n",
    "print(x)\n",
    "inlist=[]\n",
    "y=x[2]\n",
    "y1=x[1]\n",
    "inlist.append(y)\n",
    "inlist.insert(0,y1)\n",
    "inlist\n",
    "#x[2]"
   ]
  },
  {
   "cell_type": "code",
   "execution_count": 271,
   "metadata": {},
   "outputs": [
    {
     "data": {
      "text/plain": [
       "[['Live_Strong_30'],\n",
       " ['wrath_of_rathje', ' TUCK_U_2_SLEEP'],\n",
       " ['nclemens_02', ' OhMyDarling118'],\n",
       " ['nicki3diesel'],\n",
       " ['KendrickLaamar', ' JColeNC'],\n",
       " ['JessicaNieberg1'],\n",
       " ['GodPosts'],\n",
       " ['Lukaymusic'],\n",
       " ['DJ_RJCoia', ' Chris_Lansdown'],\n",
       " ['BWebb32']]"
      ]
     },
     "execution_count": 271,
     "metadata": {},
     "output_type": "execute_result"
    }
   ],
   "source": [
    "# Needed, Important\n",
    "\n",
    "ment_list=[]\n",
    "\n",
    "for i in x:\n",
    "    y = i.split(\",\")\n",
    "    z=[]\n",
    "    for j in y:\n",
    "        if j!=' ':\n",
    "           z.append(j)\n",
    "        \n",
    "        \n",
    "    ment_list.append(z)\n",
    "\n",
    "ment_list\n",
    "    "
   ]
  },
  {
   "cell_type": "code",
   "execution_count": 290,
   "metadata": {},
   "outputs": [
    {
     "data": {
      "text/plain": [
       "[]"
      ]
     },
     "execution_count": 290,
     "metadata": {},
     "output_type": "execute_result"
    }
   ],
   "source": [
    "ment_list\n",
    "x\n",
    "conpair = []    \n",
    "    \n",
    "for j in ment_list:\n",
    "    for i in x:\n",
    "        if j == i:\n",
    "            conpair.append(j)\n",
    "            \n",
    "            \n",
    "conpair\n",
    "            \n",
    "        \n",
    "    \n",
    "\n",
    "\n",
    "\n"
   ]
  },
  {
   "cell_type": "code",
   "execution_count": 183,
   "metadata": {},
   "outputs": [
    {
     "ename": "SyntaxError",
     "evalue": "invalid syntax (<ipython-input-183-ba9ef043b85a>, line 1)",
     "output_type": "error",
     "traceback": [
      "\u001b[0;36m  File \u001b[0;32m\"<ipython-input-183-ba9ef043b85a>\"\u001b[0;36m, line \u001b[0;32m1\u001b[0m\n\u001b[0;31m    d->[a,b,c]\u001b[0m\n\u001b[0m      ^\u001b[0m\n\u001b[0;31mSyntaxError\u001b[0m\u001b[0;31m:\u001b[0m invalid syntax\n"
     ]
    }
   ],
   "source": [
    "d->[a,b,c]\n",
    "a->[x,y,z,d]\n",
    "\n",
    "for each person in d ka mention:\n",
    "   in that persons list: \n",
    "       is d there?????\n",
    "       \n",
    "       dictionsry[a]"
   ]
  },
  {
   "cell_type": "code",
   "execution_count": 269,
   "metadata": {},
   "outputs": [
    {
     "data": {
      "text/plain": [
       "dict_items([('U1', ['M1', 'M3']), ('U2', 'M2')])"
      ]
     },
     "execution_count": 269,
     "metadata": {},
     "output_type": "execute_result"
    }
   ],
   "source": [
    "mydi = dict()\n",
    "mydi['a']=12\n",
    "mydi['a']=13\n",
    "mydi\n",
    "mydict={'U1':['M1','M3'], 'U2':'M2'}\n",
    "mydict.items()"
   ]
  },
  {
   "cell_type": "code",
   "execution_count": null,
   "metadata": {
    "collapsed": true
   },
   "outputs": [],
   "source": [
    "\n"
   ]
  },
  {
   "cell_type": "code",
   "execution_count": null,
   "metadata": {
    "collapsed": true
   },
   "outputs": [],
   "source": []
  }
 ],
 "metadata": {
  "kernelspec": {
   "display_name": "Python 3",
   "language": "python",
   "name": "python3"
  },
  "language_info": {
   "codemirror_mode": {
    "name": "ipython",
    "version": 3
   },
   "file_extension": ".py",
   "mimetype": "text/x-python",
   "name": "python",
   "nbconvert_exporter": "python",
   "pygments_lexer": "ipython3",
   "version": "3.6.3"
  }
 },
 "nbformat": 4,
 "nbformat_minor": 2
}
