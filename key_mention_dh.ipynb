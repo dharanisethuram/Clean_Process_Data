{
 "cells": [
  {
   "cell_type": "code",
   "execution_count": 1,
   "metadata": {},
   "outputs": [
    {
     "data": {
      "text/plain": [
       "'/Users/dharanisethuram/SamplePro'"
      ]
     },
     "execution_count": 1,
     "metadata": {},
     "output_type": "execute_result"
    }
   ],
   "source": [
    "pwd"
   ]
  },
  {
   "cell_type": "code",
   "execution_count": 2,
   "metadata": {
    "collapsed": true
   },
   "outputs": [],
   "source": [
    "import numpy as np\n",
    "import pandas as pd\n",
    "\n"
   ]
  },
  {
   "cell_type": "code",
   "execution_count": 3,
   "metadata": {
    "collapsed": true
   },
   "outputs": [],
   "source": [
    "df = pd.read_csv('sandy_kw_sample200k.csv')"
   ]
  },
  {
   "cell_type": "code",
   "execution_count": 4,
   "metadata": {
    "scrolled": true
   },
   "outputs": [
    {
     "data": {
      "text/html": [
       "<div>\n",
       "<style>\n",
       "    .dataframe thead tr:only-child th {\n",
       "        text-align: right;\n",
       "    }\n",
       "\n",
       "    .dataframe thead th {\n",
       "        text-align: left;\n",
       "    }\n",
       "\n",
       "    .dataframe tbody tr th {\n",
       "        vertical-align: top;\n",
       "    }\n",
       "</style>\n",
       "<table border=\"1\" class=\"dataframe\">\n",
       "  <thead>\n",
       "    <tr style=\"text-align: right;\">\n",
       "      <th></th>\n",
       "      <th>Klout Score</th>\n",
       "      <th>Retweet Count</th>\n",
       "      <th>Friends Count</th>\n",
       "      <th>Followers Count</th>\n",
       "    </tr>\n",
       "  </thead>\n",
       "  <tbody>\n",
       "    <tr>\n",
       "      <th>count</th>\n",
       "      <td>200000.00000</td>\n",
       "      <td>200000.0</td>\n",
       "      <td>200000.000000</td>\n",
       "      <td>2.000000e+05</td>\n",
       "    </tr>\n",
       "    <tr>\n",
       "      <th>mean</th>\n",
       "      <td>38.17505</td>\n",
       "      <td>0.0</td>\n",
       "      <td>795.898585</td>\n",
       "      <td>4.099970e+03</td>\n",
       "    </tr>\n",
       "    <tr>\n",
       "      <th>std</th>\n",
       "      <td>13.91088</td>\n",
       "      <td>0.0</td>\n",
       "      <td>4901.986697</td>\n",
       "      <td>7.235737e+04</td>\n",
       "    </tr>\n",
       "    <tr>\n",
       "      <th>min</th>\n",
       "      <td>0.00000</td>\n",
       "      <td>0.0</td>\n",
       "      <td>0.000000</td>\n",
       "      <td>0.000000e+00</td>\n",
       "    </tr>\n",
       "    <tr>\n",
       "      <th>25%</th>\n",
       "      <td>31.00000</td>\n",
       "      <td>0.0</td>\n",
       "      <td>117.000000</td>\n",
       "      <td>8.800000e+01</td>\n",
       "    </tr>\n",
       "    <tr>\n",
       "      <th>50%</th>\n",
       "      <td>40.00000</td>\n",
       "      <td>0.0</td>\n",
       "      <td>259.000000</td>\n",
       "      <td>2.340000e+02</td>\n",
       "    </tr>\n",
       "    <tr>\n",
       "      <th>75%</th>\n",
       "      <td>46.00000</td>\n",
       "      <td>0.0</td>\n",
       "      <td>586.000000</td>\n",
       "      <td>6.790000e+02</td>\n",
       "    </tr>\n",
       "    <tr>\n",
       "      <th>max</th>\n",
       "      <td>99.00000</td>\n",
       "      <td>0.0</td>\n",
       "      <td>989037.000000</td>\n",
       "      <td>8.137706e+06</td>\n",
       "    </tr>\n",
       "  </tbody>\n",
       "</table>\n",
       "</div>"
      ],
      "text/plain": [
       "        Klout Score  Retweet Count  Friends Count  Followers Count\n",
       "count  200000.00000       200000.0  200000.000000     2.000000e+05\n",
       "mean       38.17505            0.0     795.898585     4.099970e+03\n",
       "std        13.91088            0.0    4901.986697     7.235737e+04\n",
       "min         0.00000            0.0       0.000000     0.000000e+00\n",
       "25%        31.00000            0.0     117.000000     8.800000e+01\n",
       "50%        40.00000            0.0     259.000000     2.340000e+02\n",
       "75%        46.00000            0.0     586.000000     6.790000e+02\n",
       "max        99.00000            0.0  989037.000000     8.137706e+06"
      ]
     },
     "execution_count": 4,
     "metadata": {},
     "output_type": "execute_result"
    }
   ],
   "source": [
    "df.describe()"
   ]
  },
  {
   "cell_type": "code",
   "execution_count": 5,
   "metadata": {
    "collapsed": true
   },
   "outputs": [],
   "source": [
    "d = df[['Username','Mentions']]"
   ]
  },
  {
   "cell_type": "code",
   "execution_count": 6,
   "metadata": {
    "collapsed": true,
    "scrolled": true
   },
   "outputs": [],
   "source": [
    "d.to_csv(\"keyUser_Ment.csv\")"
   ]
  },
  {
   "cell_type": "code",
   "execution_count": 7,
   "metadata": {
    "scrolled": false
   },
   "outputs": [
    {
     "name": "stdout",
     "output_type": "stream",
     "text": [
      "total 172568\r\n",
      "-rw-r--r--  1 dharanisethuram  staff  33603196 Aug 21 22:39 sandy_kw_sample200k.csv\r\n",
      "-rw-r--r--@ 1 dharanisethuram  staff  27877525 Aug 21 22:39 sandy_geo_sample200k.csv\r\n",
      "-rw-r--r--  1 dharanisethuram  staff   5482182 Sep 12 09:23 User_Ment.csv\r\n",
      "-rw-r--r--@ 1 dharanisethuram  staff   3756462 Sep 12 09:24 cleanUser_Ment.csv\r\n",
      "-rw-r--r--  1 dharanisethuram  staff     40001 Sep 12 19:09 geo_mention_dh.ipynb\r\n",
      "-rw-r--r--  1 dharanisethuram  staff   5482182 Sep 12 23:32 clean.csv\r\n",
      "-rw-r--r--  1 dharanisethuram  staff     24750 Sep 12 23:35 Dharani%27s+solution(1).ipynb\r\n",
      "-rw-r--r--  1 dharanisethuram  staff     58954 Sep 13 00:00 compareTrial.ipynb\r\n",
      "-rw-r--r--  1 dharanisethuram  staff   3829594 Sep 13 00:09 trial.csv\r\n",
      "-rw-r--r--  1 dharanisethuram  staff      6402 Sep 14 23:24 trial.ipynb\r\n",
      "-rw-r--r--  1 dharanisethuram  staff   3099950 Sep 14 23:52 campare.ipynb\r\n",
      "-rw-r--r--  1 dharanisethuram  staff     40001 Sep 15 00:05 key_mention_dh.ipynb\r\n",
      "-rw-r--r--  1 dharanisethuram  staff   5027859 Sep 15 00:06 keyUser_Ment.csv\r\n"
     ]
    }
   ],
   "source": [
    "ls -lrt\n"
   ]
  },
  {
   "cell_type": "code",
   "execution_count": 8,
   "metadata": {
    "collapsed": true
   },
   "outputs": [],
   "source": [
    "df=pd.read_csv(\"keyUser_Ment.csv\")"
   ]
  },
  {
   "cell_type": "code",
   "execution_count": 9,
   "metadata": {},
   "outputs": [
    {
     "data": {
      "text/html": [
       "<div>\n",
       "<style>\n",
       "    .dataframe thead tr:only-child th {\n",
       "        text-align: right;\n",
       "    }\n",
       "\n",
       "    .dataframe thead th {\n",
       "        text-align: left;\n",
       "    }\n",
       "\n",
       "    .dataframe tbody tr th {\n",
       "        vertical-align: top;\n",
       "    }\n",
       "</style>\n",
       "<table border=\"1\" class=\"dataframe\">\n",
       "  <thead>\n",
       "    <tr style=\"text-align: right;\">\n",
       "      <th></th>\n",
       "      <th>Unnamed: 0</th>\n",
       "      <th>Username</th>\n",
       "      <th>Mentions</th>\n",
       "    </tr>\n",
       "  </thead>\n",
       "  <tbody>\n",
       "    <tr>\n",
       "      <th>0</th>\n",
       "      <td>0</td>\n",
       "      <td>BiasedGirl</td>\n",
       "      <td>GovChristie,</td>\n",
       "    </tr>\n",
       "    <tr>\n",
       "      <th>1</th>\n",
       "      <td>1</td>\n",
       "      <td>TheFoxyBoxy</td>\n",
       "      <td>NaN</td>\n",
       "    </tr>\n",
       "    <tr>\n",
       "      <th>2</th>\n",
       "      <td>2</td>\n",
       "      <td>ISEmanCometh</td>\n",
       "      <td>NaN</td>\n",
       "    </tr>\n",
       "    <tr>\n",
       "      <th>3</th>\n",
       "      <td>3</td>\n",
       "      <td>LesJack2</td>\n",
       "      <td>NaN</td>\n",
       "    </tr>\n",
       "    <tr>\n",
       "      <th>4</th>\n",
       "      <td>4</td>\n",
       "      <td>WonderfulWorldz</td>\n",
       "      <td>NaN</td>\n",
       "    </tr>\n",
       "    <tr>\n",
       "      <th>5</th>\n",
       "      <td>5</td>\n",
       "      <td>Leyregb</td>\n",
       "      <td>thecoolhunter,</td>\n",
       "    </tr>\n",
       "    <tr>\n",
       "      <th>6</th>\n",
       "      <td>6</td>\n",
       "      <td>chrissearles</td>\n",
       "      <td>NaN</td>\n",
       "    </tr>\n",
       "    <tr>\n",
       "      <th>7</th>\n",
       "      <td>7</td>\n",
       "      <td>DesertCharities</td>\n",
       "      <td>NaN</td>\n",
       "    </tr>\n",
       "    <tr>\n",
       "      <th>8</th>\n",
       "      <td>8</td>\n",
       "      <td>marina_rose5</td>\n",
       "      <td>NaN</td>\n",
       "    </tr>\n",
       "    <tr>\n",
       "      <th>9</th>\n",
       "      <td>9</td>\n",
       "      <td>Jonathan_Schwab</td>\n",
       "      <td>NaN</td>\n",
       "    </tr>\n",
       "  </tbody>\n",
       "</table>\n",
       "</div>"
      ],
      "text/plain": [
       "   Unnamed: 0         Username         Mentions\n",
       "0           0       BiasedGirl    GovChristie, \n",
       "1           1      TheFoxyBoxy              NaN\n",
       "2           2     ISEmanCometh              NaN\n",
       "3           3         LesJack2              NaN\n",
       "4           4  WonderfulWorldz              NaN\n",
       "5           5          Leyregb  thecoolhunter, \n",
       "6           6     chrissearles              NaN\n",
       "7           7  DesertCharities              NaN\n",
       "8           8     marina_rose5              NaN\n",
       "9           9  Jonathan_Schwab              NaN"
      ]
     },
     "execution_count": 9,
     "metadata": {},
     "output_type": "execute_result"
    }
   ],
   "source": [
    "df[0:10]"
   ]
  },
  {
   "cell_type": "code",
   "execution_count": 10,
   "metadata": {},
   "outputs": [
    {
     "name": "stdout",
     "output_type": "stream",
     "text": [
      "<bound method DataFrame.count of         Unnamed: 0         Username                                 Mentions\n",
      "0                0       BiasedGirl                            GovChristie, \n",
      "1                1      TheFoxyBoxy                                      NaN\n",
      "2                2     ISEmanCometh                                      NaN\n",
      "3                3         LesJack2                                      NaN\n",
      "4                4  WonderfulWorldz                                      NaN\n",
      "5                5          Leyregb                          thecoolhunter, \n",
      "6                6     chrissearles                                      NaN\n",
      "7                7  DesertCharities                                      NaN\n",
      "8                8     marina_rose5                                      NaN\n",
      "9                9  Jonathan_Schwab                                      NaN\n",
      "10              10      FaridiBilal                                      NaN\n",
      "11              11          Isiahh_                                      NaN\n",
      "12              12       zayn_bunny                            _michellelo, \n",
      "13              13        overhearz                                      NaN\n",
      "14              14      the1001news                                      NaN\n",
      "15              15    undethebltarp                                  utbrp, \n",
      "16              16        tmony2468                                      NaN\n",
      "17              17     november2998              VinCastronovo, TheBiancaC, \n",
      "18              18           SubEWL                             usairforce, \n",
      "19              19        DBrown166                          mommamadeline, \n",
      "20              20       OscarMahon                                      NaN\n",
      "21              21    GRACE_Bowen11                         ThatGuy_Warren, \n",
      "22              22       RobinFrees                                      NaN\n",
      "23              23    AndrewJaffrey                                    smh, \n",
      "24              24  JackyFromJersey                                      NaN\n",
      "25              25      laceyjmeeks                            GovChristie, \n",
      "26              26    DiggyPinkLips                                      NaN\n",
      "27              27     Marley_Sheen                             CherryTopp, \n",
      "28              28             Y105                                      NaN\n",
      "29              29          supzoey                                      NaN\n",
      "...            ...              ...                                      ...\n",
      "199970      199970   Bambuser_Alert                                      NaN\n",
      "199971      199971   RichardColsonB                                      NaN\n",
      "199972      199972      marnibstein                            wamu885news, \n",
      "199973      199973        LaLadotGh                                      NaN\n",
      "199974      199974    ThatGirlKalii                                      NaN\n",
      "199975      199975  JackScoutmobNYC                                      NaN\n",
      "199976      199976     GibbsDaTruth                                      NaN\n",
      "199977      199977    apellegrino10                gayle_bart, emily_tello, \n",
      "199978      199978  diabetes_trials                                      NaN\n",
      "199979      199979          VenosaX                            mandiitruds, \n",
      "199980      199980  tyler11williams                         ToriLovesTrace, \n",
      "199981      199981        Jombies10                           bgillespie10, \n",
      "199982      199982    lovemyself914                                      NaN\n",
      "199983      199983  WhitewaterAxiom                                      NaN\n",
      "199984      199984  TatianaSpeaking                                      NaN\n",
      "199985      199985         deegrand                              Gothamist, \n",
      "199986      199986    Comedyrefugee                                      NaN\n",
      "199987      199987     AntoniaWhite                             kearyhanan, \n",
      "199988      199988        Jacksfire                                      NaN\n",
      "199989      199989   Sandydestroy12                                      NaN\n",
      "199990      199990        DrJAshton                                      NaN\n",
      "199991      199991      chadimoglou  weatherchannel, 54th, KiirstinMarilyn, \n",
      "199992      199992        SCurcio32                                      NaN\n",
      "199993      199993     gatdamn_traw                                      NaN\n",
      "199994      199994   vallejomondher                                      NaN\n",
      "199995      199995       KimLoves1D                                      NaN\n",
      "199996      199996       inarsfansk                                      NaN\n",
      "199997      199997  StartupSpiritma                                      NaN\n",
      "199998      199998     SharonMariee        wwwbigbaldhead, WalkingDead_AMC, \n",
      "199999      199999          Jmoda34                                      NaN\n",
      "\n",
      "[200000 rows x 3 columns]>\n"
     ]
    }
   ],
   "source": [
    "rno=df.count\n",
    "print (rno)"
   ]
  },
  {
   "cell_type": "code",
   "execution_count": 11,
   "metadata": {
    "collapsed": true
   },
   "outputs": [],
   "source": [
    "\n",
    "d=df.dropna()"
   ]
  },
  {
   "cell_type": "code",
   "execution_count": 12,
   "metadata": {},
   "outputs": [
    {
     "data": {
      "text/html": [
       "<div>\n",
       "<style>\n",
       "    .dataframe thead tr:only-child th {\n",
       "        text-align: right;\n",
       "    }\n",
       "\n",
       "    .dataframe thead th {\n",
       "        text-align: left;\n",
       "    }\n",
       "\n",
       "    .dataframe tbody tr th {\n",
       "        vertical-align: top;\n",
       "    }\n",
       "</style>\n",
       "<table border=\"1\" class=\"dataframe\">\n",
       "  <thead>\n",
       "    <tr style=\"text-align: right;\">\n",
       "      <th></th>\n",
       "      <th>Unnamed: 0</th>\n",
       "      <th>Username</th>\n",
       "      <th>Mentions</th>\n",
       "    </tr>\n",
       "  </thead>\n",
       "  <tbody>\n",
       "    <tr>\n",
       "      <th>0</th>\n",
       "      <td>0</td>\n",
       "      <td>BiasedGirl</td>\n",
       "      <td>GovChristie,</td>\n",
       "    </tr>\n",
       "    <tr>\n",
       "      <th>5</th>\n",
       "      <td>5</td>\n",
       "      <td>Leyregb</td>\n",
       "      <td>thecoolhunter,</td>\n",
       "    </tr>\n",
       "    <tr>\n",
       "      <th>12</th>\n",
       "      <td>12</td>\n",
       "      <td>zayn_bunny</td>\n",
       "      <td>_michellelo,</td>\n",
       "    </tr>\n",
       "    <tr>\n",
       "      <th>15</th>\n",
       "      <td>15</td>\n",
       "      <td>undethebltarp</td>\n",
       "      <td>utbrp,</td>\n",
       "    </tr>\n",
       "    <tr>\n",
       "      <th>17</th>\n",
       "      <td>17</td>\n",
       "      <td>november2998</td>\n",
       "      <td>VinCastronovo, TheBiancaC,</td>\n",
       "    </tr>\n",
       "    <tr>\n",
       "      <th>18</th>\n",
       "      <td>18</td>\n",
       "      <td>SubEWL</td>\n",
       "      <td>usairforce,</td>\n",
       "    </tr>\n",
       "    <tr>\n",
       "      <th>19</th>\n",
       "      <td>19</td>\n",
       "      <td>DBrown166</td>\n",
       "      <td>mommamadeline,</td>\n",
       "    </tr>\n",
       "    <tr>\n",
       "      <th>21</th>\n",
       "      <td>21</td>\n",
       "      <td>GRACE_Bowen11</td>\n",
       "      <td>ThatGuy_Warren,</td>\n",
       "    </tr>\n",
       "    <tr>\n",
       "      <th>23</th>\n",
       "      <td>23</td>\n",
       "      <td>AndrewJaffrey</td>\n",
       "      <td>smh,</td>\n",
       "    </tr>\n",
       "    <tr>\n",
       "      <th>25</th>\n",
       "      <td>25</td>\n",
       "      <td>laceyjmeeks</td>\n",
       "      <td>GovChristie,</td>\n",
       "    </tr>\n",
       "  </tbody>\n",
       "</table>\n",
       "</div>"
      ],
      "text/plain": [
       "    Unnamed: 0       Username                     Mentions\n",
       "0            0     BiasedGirl                GovChristie, \n",
       "5            5        Leyregb              thecoolhunter, \n",
       "12          12     zayn_bunny                _michellelo, \n",
       "15          15  undethebltarp                      utbrp, \n",
       "17          17   november2998  VinCastronovo, TheBiancaC, \n",
       "18          18         SubEWL                 usairforce, \n",
       "19          19      DBrown166              mommamadeline, \n",
       "21          21  GRACE_Bowen11             ThatGuy_Warren, \n",
       "23          23  AndrewJaffrey                        smh, \n",
       "25          25    laceyjmeeks                GovChristie, "
      ]
     },
     "execution_count": 12,
     "metadata": {},
     "output_type": "execute_result"
    }
   ],
   "source": [
    "d[0:10]"
   ]
  },
  {
   "cell_type": "code",
   "execution_count": 13,
   "metadata": {
    "collapsed": true
   },
   "outputs": [],
   "source": [
    "rno=d.count"
   ]
  },
  {
   "cell_type": "code",
   "execution_count": 14,
   "metadata": {},
   "outputs": [
    {
     "name": "stdout",
     "output_type": "stream",
     "text": [
      "<bound method DataFrame.count of         Unnamed: 0         Username  \\\n",
      "0                0       BiasedGirl   \n",
      "5                5          Leyregb   \n",
      "12              12       zayn_bunny   \n",
      "15              15    undethebltarp   \n",
      "17              17     november2998   \n",
      "18              18           SubEWL   \n",
      "19              19        DBrown166   \n",
      "21              21    GRACE_Bowen11   \n",
      "23              23    AndrewJaffrey   \n",
      "25              25      laceyjmeeks   \n",
      "27              27     Marley_Sheen   \n",
      "30              30    AndyShipsides   \n",
      "31              31    corinnesmith_   \n",
      "38              38      jackmehoff1   \n",
      "39              39         mamazeke   \n",
      "44              44        Eph320MFW   \n",
      "45              45      MasterChefP   \n",
      "48              48     cindyscott54   \n",
      "55              55       CoryBooker   \n",
      "62              62       DJSAMMIEC1   \n",
      "63              63        jonnyrt86   \n",
      "67              67  sheribermanFTSK   \n",
      "72              72        KateMansi   \n",
      "74              74          XOSimmy   \n",
      "77              77       lomartin33   \n",
      "91              91          alexqgb   \n",
      "93              93          B3llaB_   \n",
      "98              98  openmindsrgreat   \n",
      "104            104  cassandralynn95   \n",
      "105            105   BrocktheGreat1   \n",
      "...            ...              ...   \n",
      "199882      199882   Johngroot5ever   \n",
      "199883      199883      tiffany_mae   \n",
      "199885      199885  rebeccalfwright   \n",
      "199889      199889       Ryn_writes   \n",
      "199898      199898      3DHobbyShop   \n",
      "199899      199899      TimCeresano   \n",
      "199906      199906  ScottFilmCritic   \n",
      "199910      199910        ohmyerica   \n",
      "199914      199914       kuulbreeze   \n",
      "199917      199917      unecrivaine   \n",
      "199920      199920   thelaxbabelife   \n",
      "199924      199924      daledixon82   \n",
      "199930      199930   Enric0Pallazz0   \n",
      "199934      199934        Fivefeet0   \n",
      "199937      199937          jesuszm   \n",
      "199947      199947         xBigTigx   \n",
      "199950      199950        LolCrunch   \n",
      "199955      199955    TheChrisNoble   \n",
      "199957      199957     dawnzimmernj   \n",
      "199960      199960    MLInnovations   \n",
      "199967      199967       Jon_Corral   \n",
      "199972      199972      marnibstein   \n",
      "199977      199977    apellegrino10   \n",
      "199979      199979          VenosaX   \n",
      "199980      199980  tyler11williams   \n",
      "199981      199981        Jombies10   \n",
      "199985      199985         deegrand   \n",
      "199987      199987     AntoniaWhite   \n",
      "199991      199991      chadimoglou   \n",
      "199998      199998     SharonMariee   \n",
      "\n",
      "                                                 Mentions  \n",
      "0                                           GovChristie,   \n",
      "5                                         thecoolhunter,   \n",
      "12                                          _michellelo,   \n",
      "15                                                utbrp,   \n",
      "17                            VinCastronovo, TheBiancaC,   \n",
      "18                                           usairforce,   \n",
      "19                                        mommamadeline,   \n",
      "21                                       ThatGuy_Warren,   \n",
      "23                                                  smh,   \n",
      "25                                          GovChristie,   \n",
      "27                                           CherryTopp,   \n",
      "30                                             abelcine,   \n",
      "31                                           denniloren,   \n",
      "38                                                JCP_L,   \n",
      "39                                   NJ_TRANSIT, PANYNJ,   \n",
      "44                             KillerKW, chrisjonesfoto,   \n",
      "45                                 Pusha_TeeWat, hoeFOH,   \n",
      "48                                            wxgarrett,   \n",
      "55                                          b4evajoyful,   \n",
      "62                               JAMN945, twc_hurricane,   \n",
      "63                                             Breakcom,   \n",
      "67                            GonzalezAngelaE, BuzzFeed,   \n",
      "72                                                  nbc,   \n",
      "74                                            asvpxcece,   \n",
      "77                                          KarlBarthJr,   \n",
      "91                                             nycarecs,   \n",
      "93                                            Norgasm__,   \n",
      "98                                           CoryBooker,   \n",
      "104                                       mollyolivia15,   \n",
      "105                                        OmarKaddurah,   \n",
      "...                                                   ...  \n",
      "199882                                        ndfanchaz,   \n",
      "199883                                       stuartenyt,   \n",
      "199885                           coldfashion, ConEdison,   \n",
      "199889                                      bangkokdave,   \n",
      "199898                                      3DHobbyShop,   \n",
      "199899                              PSEGNews, PSEGcares,   \n",
      "199906                                  MNightShyamalan,   \n",
      "199910                                         BuzzFeed,   \n",
      "199914                              YouTube, Ballerz521,   \n",
      "199917                                        nvanessie,   \n",
      "199920                                      thelaxwhore,   \n",
      "199924                                          BMo2001,   \n",
      "199930                                     jessespector,   \n",
      "199934                                   HuffingtonPost,   \n",
      "199937                                              TMZ,   \n",
      "199947                                     thecoopertom,   \n",
      "199950                                         thatdrew,   \n",
      "199955                                    jackwhitehall,   \n",
      "199957  HobokenGirlBlog, CityofHoboken, HobokenPatch, ...  \n",
      "199960                                    MitzvahCircle,   \n",
      "199967                    kianakonders, Oliviaaaadamato,   \n",
      "199972                                      wamu885news,   \n",
      "199977                          gayle_bart, emily_tello,   \n",
      "199979                                      mandiitruds,   \n",
      "199980                                   ToriLovesTrace,   \n",
      "199981                                     bgillespie10,   \n",
      "199985                                        Gothamist,   \n",
      "199987                                       kearyhanan,   \n",
      "199991            weatherchannel, 54th, KiirstinMarilyn,   \n",
      "199998                  wwwbigbaldhead, WalkingDead_AMC,   \n",
      "\n",
      "[62013 rows x 3 columns]>\n"
     ]
    }
   ],
   "source": [
    "print (rno)"
   ]
  },
  {
   "cell_type": "code",
   "execution_count": 15,
   "metadata": {
    "collapsed": true
   },
   "outputs": [],
   "source": [
    "d.to_csv(\"keycleanUser_Ment.csv\")"
   ]
  },
  {
   "cell_type": "code",
   "execution_count": 16,
   "metadata": {
    "collapsed": true
   },
   "outputs": [],
   "source": [
    "df = pd.read_csv(\"keycleanUser_Ment.csv\")"
   ]
  },
  {
   "cell_type": "code",
   "execution_count": 17,
   "metadata": {},
   "outputs": [
    {
     "data": {
      "text/html": [
       "<div>\n",
       "<style>\n",
       "    .dataframe thead tr:only-child th {\n",
       "        text-align: right;\n",
       "    }\n",
       "\n",
       "    .dataframe thead th {\n",
       "        text-align: left;\n",
       "    }\n",
       "\n",
       "    .dataframe tbody tr th {\n",
       "        vertical-align: top;\n",
       "    }\n",
       "</style>\n",
       "<table border=\"1\" class=\"dataframe\">\n",
       "  <thead>\n",
       "    <tr style=\"text-align: right;\">\n",
       "      <th></th>\n",
       "      <th>Unnamed: 0</th>\n",
       "      <th>Unnamed: 0.1</th>\n",
       "    </tr>\n",
       "  </thead>\n",
       "  <tbody>\n",
       "    <tr>\n",
       "      <th>count</th>\n",
       "      <td>62013.000000</td>\n",
       "      <td>62013.000000</td>\n",
       "    </tr>\n",
       "    <tr>\n",
       "      <th>mean</th>\n",
       "      <td>99920.700708</td>\n",
       "      <td>99920.700708</td>\n",
       "    </tr>\n",
       "    <tr>\n",
       "      <th>std</th>\n",
       "      <td>57636.344882</td>\n",
       "      <td>57636.344882</td>\n",
       "    </tr>\n",
       "    <tr>\n",
       "      <th>min</th>\n",
       "      <td>0.000000</td>\n",
       "      <td>0.000000</td>\n",
       "    </tr>\n",
       "    <tr>\n",
       "      <th>25%</th>\n",
       "      <td>49941.000000</td>\n",
       "      <td>49941.000000</td>\n",
       "    </tr>\n",
       "    <tr>\n",
       "      <th>50%</th>\n",
       "      <td>99985.000000</td>\n",
       "      <td>99985.000000</td>\n",
       "    </tr>\n",
       "    <tr>\n",
       "      <th>75%</th>\n",
       "      <td>149504.000000</td>\n",
       "      <td>149504.000000</td>\n",
       "    </tr>\n",
       "    <tr>\n",
       "      <th>max</th>\n",
       "      <td>199998.000000</td>\n",
       "      <td>199998.000000</td>\n",
       "    </tr>\n",
       "  </tbody>\n",
       "</table>\n",
       "</div>"
      ],
      "text/plain": [
       "          Unnamed: 0   Unnamed: 0.1\n",
       "count   62013.000000   62013.000000\n",
       "mean    99920.700708   99920.700708\n",
       "std     57636.344882   57636.344882\n",
       "min         0.000000       0.000000\n",
       "25%     49941.000000   49941.000000\n",
       "50%     99985.000000   99985.000000\n",
       "75%    149504.000000  149504.000000\n",
       "max    199998.000000  199998.000000"
      ]
     },
     "execution_count": 17,
     "metadata": {},
     "output_type": "execute_result"
    }
   ],
   "source": [
    "df.describe()"
   ]
  },
  {
   "cell_type": "code",
   "execution_count": 18,
   "metadata": {},
   "outputs": [
    {
     "name": "stdout",
     "output_type": "stream",
     "text": [
      "   Unnamed: 0  Unnamed: 0.1       Username                     Mentions\n",
      "0           0             0     BiasedGirl                GovChristie, \n",
      "1           5             5        Leyregb              thecoolhunter, \n",
      "2          12            12     zayn_bunny                _michellelo, \n",
      "3          15            15  undethebltarp                      utbrp, \n",
      "4          17            17   november2998  VinCastronovo, TheBiancaC, \n",
      "5          18            18         SubEWL                 usairforce, \n",
      "6          19            19      DBrown166              mommamadeline, \n",
      "7          21            21  GRACE_Bowen11             ThatGuy_Warren, \n",
      "8          23            23  AndrewJaffrey                        smh, \n",
      "9          25            25    laceyjmeeks                GovChristie, \n"
     ]
    }
   ],
   "source": [
    "#print(df.count)\n",
    "d = df[0:10]\n",
    "print (d)"
   ]
  },
  {
   "cell_type": "code",
   "execution_count": null,
   "metadata": {
    "collapsed": true
   },
   "outputs": [],
   "source": []
  },
  {
   "cell_type": "code",
   "execution_count": null,
   "metadata": {
    "collapsed": true
   },
   "outputs": [],
   "source": []
  },
  {
   "cell_type": "code",
   "execution_count": 19,
   "metadata": {},
   "outputs": [
    {
     "name": "stdout",
     "output_type": "stream",
     "text": [
      "['BiasedGirl', 'Leyregb', 'zayn_bunny', 'undethebltarp', 'november2998', 'SubEWL', 'DBrown166', 'GRACE_Bowen11', 'AndrewJaffrey', 'laceyjmeeks']\n"
     ]
    }
   ],
   "source": [
    "du = d['Username']\n",
    "#print(du)\n",
    "\n",
    "arr = [100] #adjust to needed \n",
    "x = []\n",
    "for row in du:\n",
    "    x.append(row)\n",
    "print (x)"
   ]
  },
  {
   "cell_type": "code",
   "execution_count": 20,
   "metadata": {},
   "outputs": [
    {
     "name": "stdout",
     "output_type": "stream",
     "text": [
      "0                  GovChristie, \n",
      "1                thecoolhunter, \n",
      "2                  _michellelo, \n",
      "3                        utbrp, \n",
      "4    VinCastronovo, TheBiancaC, \n",
      "5                   usairforce, \n",
      "6                mommamadeline, \n",
      "7               ThatGuy_Warren, \n",
      "8                          smh, \n",
      "9                  GovChristie, \n",
      "Name: Mentions, dtype: object\n",
      "['GovChristie, ', 'thecoolhunter, ', '_michellelo, ', 'utbrp, ', 'VinCastronovo, TheBiancaC, ', 'usairforce, ', 'mommamadeline, ', 'ThatGuy_Warren, ', 'smh, ', 'GovChristie, ']\n",
      "_michellelo, \n"
     ]
    },
    {
     "ename": "NameError",
     "evalue": "name 'y1' is not defined",
     "output_type": "error",
     "traceback": [
      "\u001b[0;31m---------------------------------------------------------------------------\u001b[0m",
      "\u001b[0;31mNameError\u001b[0m                                 Traceback (most recent call last)",
      "\u001b[0;32m<ipython-input-20-a23a525d42cb>\u001b[0m in \u001b[0;36m<module>\u001b[0;34m()\u001b[0m\n\u001b[1;32m     10\u001b[0m \u001b[0mprint\u001b[0m \u001b[0;34m(\u001b[0m\u001b[0mx\u001b[0m\u001b[0;34m[\u001b[0m\u001b[0;36m2\u001b[0m\u001b[0;34m]\u001b[0m\u001b[0;34m)\u001b[0m\u001b[0;34m\u001b[0m\u001b[0m\n\u001b[1;32m     11\u001b[0m \u001b[0my\u001b[0m \u001b[0;34m=\u001b[0m \u001b[0mx\u001b[0m\u001b[0;34m[\u001b[0m\u001b[0;36m2\u001b[0m\u001b[0;34m]\u001b[0m\u001b[0;34m\u001b[0m\u001b[0m\n\u001b[0;32m---> 12\u001b[0;31m \u001b[0mprint\u001b[0m\u001b[0;34m(\u001b[0m\u001b[0my1\u001b[0m\u001b[0;34m)\u001b[0m\u001b[0;34m\u001b[0m\u001b[0m\n\u001b[0m\u001b[1;32m     13\u001b[0m \u001b[0;34m\u001b[0m\u001b[0m\n\u001b[1;32m     14\u001b[0m \u001b[0my1\u001b[0m\u001b[0;34m=\u001b[0m\u001b[0my\u001b[0m\u001b[0;34m.\u001b[0m\u001b[0msplit\u001b[0m\u001b[0;34m(\u001b[0m\u001b[0;34m\",\"\u001b[0m\u001b[0;34m)\u001b[0m\u001b[0;34m\u001b[0m\u001b[0m\n",
      "\u001b[0;31mNameError\u001b[0m: name 'y1' is not defined"
     ]
    }
   ],
   "source": [
    "dm = df['Mentions']\n",
    "m=dm[0:10]\n",
    "print(m)\n",
    "#arr[100]\n",
    "x = []\n",
    "for row in m:\n",
    "   x.append(row)\n",
    "print(x)\n",
    "\n",
    "print (x[2])\n",
    "y = x[2]\n",
    "print(y1)\n",
    "\n",
    "y1=y.split(\",\")\n",
    "print(y1[1])"
   ]
  },
  {
   "cell_type": "code",
   "execution_count": 21,
   "metadata": {},
   "outputs": [
    {
     "name": "stdout",
     "output_type": "stream",
     "text": [
      "['GovChristie, ', 'thecoolhunter, ', '_michellelo, ', 'utbrp, ', 'VinCastronovo, TheBiancaC, ', 'usairforce, ', 'mommamadeline, ', 'ThatGuy_Warren, ', 'smh, ', 'GovChristie, ']\n"
     ]
    },
    {
     "data": {
      "text/plain": [
       "['thecoolhunter, ', '_michellelo, ']"
      ]
     },
     "execution_count": 21,
     "metadata": {},
     "output_type": "execute_result"
    }
   ],
   "source": [
    "# not needed\n",
    "\n",
    "print(x)\n",
    "inlist=[]\n",
    "y=x[2]\n",
    "y1=x[1]\n",
    "inlist.append(y)\n",
    "inlist.insert(0,y1)\n",
    "inlist\n",
    "#x[2]"
   ]
  },
  {
   "cell_type": "code",
   "execution_count": 22,
   "metadata": {},
   "outputs": [
    {
     "data": {
      "text/plain": [
       "[['GovChristie'],\n",
       " ['thecoolhunter'],\n",
       " ['_michellelo'],\n",
       " ['utbrp'],\n",
       " ['VinCastronovo', ' TheBiancaC'],\n",
       " ['usairforce'],\n",
       " ['mommamadeline'],\n",
       " ['ThatGuy_Warren'],\n",
       " ['smh'],\n",
       " ['GovChristie']]"
      ]
     },
     "execution_count": 22,
     "metadata": {},
     "output_type": "execute_result"
    }
   ],
   "source": [
    "# Needed, Important\n",
    "\n",
    "ment_list=[]\n",
    "\n",
    "for i in x:\n",
    "    y = i.split(\",\")\n",
    "    z=[]\n",
    "    for j in y:\n",
    "        if j!=' ':\n",
    "           z.append(j)\n",
    "        \n",
    "        \n",
    "    ment_list.append(z)\n",
    "\n",
    "ment_list\n",
    "    "
   ]
  },
  {
   "cell_type": "code",
   "execution_count": 23,
   "metadata": {},
   "outputs": [
    {
     "data": {
      "text/plain": [
       "[]"
      ]
     },
     "execution_count": 23,
     "metadata": {},
     "output_type": "execute_result"
    }
   ],
   "source": [
    "ment_list\n",
    "x\n",
    "conpair = []    \n",
    "    \n",
    "for j in ment_list:\n",
    "    for i in x:\n",
    "        if j == i:\n",
    "            conpair.append(j)\n",
    "            \n",
    "            \n",
    "conpair\n",
    "            \n",
    "        \n",
    "    \n",
    "\n",
    "\n",
    "\n"
   ]
  },
  {
   "cell_type": "code",
   "execution_count": 24,
   "metadata": {},
   "outputs": [
    {
     "ename": "SyntaxError",
     "evalue": "invalid syntax (<ipython-input-24-ba9ef043b85a>, line 1)",
     "output_type": "error",
     "traceback": [
      "\u001b[0;36m  File \u001b[0;32m\"<ipython-input-24-ba9ef043b85a>\"\u001b[0;36m, line \u001b[0;32m1\u001b[0m\n\u001b[0;31m    d->[a,b,c]\u001b[0m\n\u001b[0m      ^\u001b[0m\n\u001b[0;31mSyntaxError\u001b[0m\u001b[0;31m:\u001b[0m invalid syntax\n"
     ]
    }
   ],
   "source": [
    "d->[a,b,c]\n",
    "a->[x,y,z,d]\n",
    "\n",
    "for each person in d ka mention:\n",
    "   in that persons list: \n",
    "       is d there?????\n",
    "       \n",
    "       dictionsry[a]"
   ]
  },
  {
   "cell_type": "code",
   "execution_count": 25,
   "metadata": {},
   "outputs": [
    {
     "data": {
      "text/plain": [
       "dict_items([('U1', ['M1', 'M3']), ('U2', 'M2')])"
      ]
     },
     "execution_count": 25,
     "metadata": {},
     "output_type": "execute_result"
    }
   ],
   "source": [
    "mydi = dict()\n",
    "mydi['a']=12\n",
    "mydi['a']=13\n",
    "mydi\n",
    "mydict={'U1':['M1','M3'], 'U2':'M2'}\n",
    "mydict.items()"
   ]
  },
  {
   "cell_type": "code",
   "execution_count": null,
   "metadata": {
    "collapsed": true
   },
   "outputs": [],
   "source": []
  },
  {
   "cell_type": "code",
   "execution_count": null,
   "metadata": {
    "collapsed": true
   },
   "outputs": [],
   "source": []
  },
  {
   "cell_type": "code",
   "execution_count": null,
   "metadata": {
    "collapsed": true
   },
   "outputs": [],
   "source": []
  }
 ],
 "metadata": {
  "kernelspec": {
   "display_name": "Python 3",
   "language": "python",
   "name": "python3"
  },
  "language_info": {
   "codemirror_mode": {
    "name": "ipython",
    "version": 3
   },
   "file_extension": ".py",
   "mimetype": "text/x-python",
   "name": "python",
   "nbconvert_exporter": "python",
   "pygments_lexer": "ipython3",
   "version": "3.6.3"
  }
 },
 "nbformat": 4,
 "nbformat_minor": 2
}
